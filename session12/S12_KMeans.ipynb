{
  "nbformat": 4,
  "nbformat_minor": 0,
  "metadata": {
    "colab": {
      "name": "S12-KMeans.ipynb",
      "provenance": [],
      "collapsed_sections": [],
      "authorship_tag": "ABX9TyOeYRShKT08jmv7O9DEC6Xe",
      "include_colab_link": true
    },
    "kernelspec": {
      "name": "python3",
      "display_name": "Python 3"
    }
  },
  "cells": [
    {
      "cell_type": "markdown",
      "metadata": {
        "id": "view-in-github",
        "colab_type": "text"
      },
      "source": [
        "<a href=\"https://colab.research.google.com/github/deepjyotisaha85/eva4/blob/master/session12/S12_KMeans.ipynb\" target=\"_parent\"><img src=\"https://colab.research.google.com/assets/colab-badge.svg\" alt=\"Open In Colab\"/></a>"
      ]
    },
    {
      "cell_type": "code",
      "metadata": {
        "id": "aRfdFrW_Zg7T",
        "colab_type": "code",
        "outputId": "8ec5c3ec-b901-44bd-a75b-4388e41da3e3",
        "colab": {
          "base_uri": "https://localhost:8080/",
          "height": 122
        }
      },
      "source": [
        "# mount gdrive and unzip data\n",
        "from google.colab import drive\n",
        "drive.mount('/content/gdrive')"
      ],
      "execution_count": 1,
      "outputs": [
        {
          "output_type": "stream",
          "text": [
            "Go to this URL in a browser: https://accounts.google.com/o/oauth2/auth?client_id=947318989803-6bn6qk8qdgf4n4g3pfee6491hc0brc4i.apps.googleusercontent.com&redirect_uri=urn%3aietf%3awg%3aoauth%3a2.0%3aoob&response_type=code&scope=email%20https%3a%2f%2fwww.googleapis.com%2fauth%2fdocs.test%20https%3a%2f%2fwww.googleapis.com%2fauth%2fdrive%20https%3a%2f%2fwww.googleapis.com%2fauth%2fdrive.photos.readonly%20https%3a%2f%2fwww.googleapis.com%2fauth%2fpeopleapi.readonly\n",
            "\n",
            "Enter your authorization code:\n",
            "··········\n",
            "Mounted at /content/gdrive\n"
          ],
          "name": "stdout"
        }
      ]
    },
    {
      "cell_type": "code",
      "metadata": {
        "id": "Js1xqRmGZ03a",
        "colab_type": "code",
        "colab": {}
      },
      "source": [
        "import sys\n",
        "import os \n",
        "workingdir = '/content/gdrive/My Drive/Colab Notebooks/EVA4/Session 12'\n",
        "sys.path.append(workingdir)"
      ],
      "execution_count": 0,
      "outputs": []
    },
    {
      "cell_type": "code",
      "metadata": {
        "id": "cAz2fWfAa5Sd",
        "colab_type": "code",
        "outputId": "ae057bdb-50ca-4e74-f794-ff9d496bbbf7",
        "colab": {
          "base_uri": "https://localhost:8080/",
          "height": 71
        }
      },
      "source": [
        "import numpy as np\n",
        "import pandas as pd\n",
        "import json\n",
        "from matplotlib import pyplot as plt\n",
        "from sklearn.datasets.samples_generator import make_blobs\n",
        "from sklearn.cluster import KMeans"
      ],
      "execution_count": 3,
      "outputs": [
        {
          "output_type": "stream",
          "text": [
            "/usr/local/lib/python3.6/dist-packages/sklearn/utils/deprecation.py:144: FutureWarning: The sklearn.datasets.samples_generator module is  deprecated in version 0.22 and will be removed in version 0.24. The corresponding classes / functions should instead be imported from sklearn.datasets. Anything that cannot be imported from sklearn.datasets is now part of the private API.\n",
            "  warnings.warn(message, FutureWarning)\n"
          ],
          "name": "stderr"
        }
      ]
    },
    {
      "cell_type": "code",
      "metadata": {
        "id": "CLGVEbuhveqc",
        "colab_type": "code",
        "colab": {
          "base_uri": "https://localhost:8080/",
          "height": 34
        },
        "outputId": "f94c89f7-0cb9-473b-c514-06315f1940b7"
      },
      "source": [
        "#Read COCO JSON File\n",
        "fptr = open('/content/gdrive/My Drive/Colab Notebooks/EVA4/Session 12/data/dog_dataset_coco.json')\n",
        "data = json.load(fptr)\n",
        "print(data.keys())"
      ],
      "execution_count": 4,
      "outputs": [
        {
          "output_type": "stream",
          "text": [
            "dict_keys(['info', 'images', 'annotations', 'licenses', 'categories'])\n"
          ],
          "name": "stdout"
        }
      ]
    },
    {
      "cell_type": "code",
      "metadata": {
        "id": "jQFKeSOqvf0R",
        "colab_type": "code",
        "colab": {}
      },
      "source": [
        "#Extract Details\n",
        "images_df = pd.DataFrame(data['images'], columns = data['images'][0].keys())\n",
        "annotations_df = pd.DataFrame(data['annotations'], columns = data['annotations'][0].keys())"
      ],
      "execution_count": 0,
      "outputs": []
    },
    {
      "cell_type": "code",
      "metadata": {
        "id": "H6v72mkjwFj1",
        "colab_type": "code",
        "outputId": "0feb83bf-9b3d-4f1d-fa33-2a9f1659f85a",
        "colab": {
          "base_uri": "https://localhost:8080/",
          "height": 204
        }
      },
      "source": [
        "images_df.head()"
      ],
      "execution_count": 6,
      "outputs": [
        {
          "output_type": "execute_result",
          "data": {
            "text/html": [
              "<div>\n",
              "<style scoped>\n",
              "    .dataframe tbody tr th:only-of-type {\n",
              "        vertical-align: middle;\n",
              "    }\n",
              "\n",
              "    .dataframe tbody tr th {\n",
              "        vertical-align: top;\n",
              "    }\n",
              "\n",
              "    .dataframe thead th {\n",
              "        text-align: right;\n",
              "    }\n",
              "</style>\n",
              "<table border=\"1\" class=\"dataframe\">\n",
              "  <thead>\n",
              "    <tr style=\"text-align: right;\">\n",
              "      <th></th>\n",
              "      <th>id</th>\n",
              "      <th>width</th>\n",
              "      <th>height</th>\n",
              "      <th>file_name</th>\n",
              "      <th>license</th>\n",
              "      <th>date_captured</th>\n",
              "    </tr>\n",
              "  </thead>\n",
              "  <tbody>\n",
              "    <tr>\n",
              "      <th>0</th>\n",
              "      <td>0</td>\n",
              "      <td>473</td>\n",
              "      <td>471</td>\n",
              "      <td>dog_1.jpg</td>\n",
              "      <td>1</td>\n",
              "      <td></td>\n",
              "    </tr>\n",
              "    <tr>\n",
              "      <th>1</th>\n",
              "      <td>1</td>\n",
              "      <td>474</td>\n",
              "      <td>474</td>\n",
              "      <td>dog_2.jpg</td>\n",
              "      <td>1</td>\n",
              "      <td></td>\n",
              "    </tr>\n",
              "    <tr>\n",
              "      <th>2</th>\n",
              "      <td>2</td>\n",
              "      <td>473</td>\n",
              "      <td>315</td>\n",
              "      <td>dog_3.jpg</td>\n",
              "      <td>1</td>\n",
              "      <td></td>\n",
              "    </tr>\n",
              "    <tr>\n",
              "      <th>3</th>\n",
              "      <td>3</td>\n",
              "      <td>474</td>\n",
              "      <td>355</td>\n",
              "      <td>dog_4.jpg</td>\n",
              "      <td>1</td>\n",
              "      <td></td>\n",
              "    </tr>\n",
              "    <tr>\n",
              "      <th>4</th>\n",
              "      <td>4</td>\n",
              "      <td>474</td>\n",
              "      <td>323</td>\n",
              "      <td>dog_5.jpg</td>\n",
              "      <td>1</td>\n",
              "      <td></td>\n",
              "    </tr>\n",
              "  </tbody>\n",
              "</table>\n",
              "</div>"
            ],
            "text/plain": [
              "   id  width  height  file_name  license date_captured\n",
              "0   0    473     471  dog_1.jpg        1              \n",
              "1   1    474     474  dog_2.jpg        1              \n",
              "2   2    473     315  dog_3.jpg        1              \n",
              "3   3    474     355  dog_4.jpg        1              \n",
              "4   4    474     323  dog_5.jpg        1              "
            ]
          },
          "metadata": {
            "tags": []
          },
          "execution_count": 6
        }
      ]
    },
    {
      "cell_type": "code",
      "metadata": {
        "id": "ZZLbCcyCwFd1",
        "colab_type": "code",
        "outputId": "a0db6bbf-cfa3-48c5-e067-7457a78064e1",
        "colab": {
          "base_uri": "https://localhost:8080/",
          "height": 204
        }
      },
      "source": [
        "annotations_df.head()"
      ],
      "execution_count": 7,
      "outputs": [
        {
          "output_type": "execute_result",
          "data": {
            "text/html": [
              "<div>\n",
              "<style scoped>\n",
              "    .dataframe tbody tr th:only-of-type {\n",
              "        vertical-align: middle;\n",
              "    }\n",
              "\n",
              "    .dataframe tbody tr th {\n",
              "        vertical-align: top;\n",
              "    }\n",
              "\n",
              "    .dataframe thead th {\n",
              "        text-align: right;\n",
              "    }\n",
              "</style>\n",
              "<table border=\"1\" class=\"dataframe\">\n",
              "  <thead>\n",
              "    <tr style=\"text-align: right;\">\n",
              "      <th></th>\n",
              "      <th>id</th>\n",
              "      <th>image_id</th>\n",
              "      <th>category_id</th>\n",
              "      <th>segmentation</th>\n",
              "      <th>area</th>\n",
              "      <th>bbox</th>\n",
              "      <th>iscrowd</th>\n",
              "    </tr>\n",
              "  </thead>\n",
              "  <tbody>\n",
              "    <tr>\n",
              "      <th>0</th>\n",
              "      <td>0</td>\n",
              "      <td>0</td>\n",
              "      <td>2</td>\n",
              "      <td>[59, 105, 380, 105, 380, 454, 59, 454]</td>\n",
              "      <td>112029</td>\n",
              "      <td>[59, 105, 321, 349]</td>\n",
              "      <td>0</td>\n",
              "    </tr>\n",
              "    <tr>\n",
              "      <th>1</th>\n",
              "      <td>1</td>\n",
              "      <td>1</td>\n",
              "      <td>4</td>\n",
              "      <td>[151, 63, 343, 63, 343, 297, 151, 297]</td>\n",
              "      <td>44928</td>\n",
              "      <td>[151, 63, 192, 234]</td>\n",
              "      <td>0</td>\n",
              "    </tr>\n",
              "    <tr>\n",
              "      <th>2</th>\n",
              "      <td>2</td>\n",
              "      <td>2</td>\n",
              "      <td>3</td>\n",
              "      <td>[49, 54, 345, 54, 345, 311, 49, 311]</td>\n",
              "      <td>76072</td>\n",
              "      <td>[49, 54, 296, 257]</td>\n",
              "      <td>0</td>\n",
              "    </tr>\n",
              "    <tr>\n",
              "      <th>3</th>\n",
              "      <td>3</td>\n",
              "      <td>3</td>\n",
              "      <td>2</td>\n",
              "      <td>[21, 18, 427, 18, 427, 343, 21, 343]</td>\n",
              "      <td>131950</td>\n",
              "      <td>[21, 18, 406, 325]</td>\n",
              "      <td>0</td>\n",
              "    </tr>\n",
              "    <tr>\n",
              "      <th>4</th>\n",
              "      <td>4</td>\n",
              "      <td>4</td>\n",
              "      <td>4</td>\n",
              "      <td>[43, 37, 256, 37, 256, 321, 43, 321]</td>\n",
              "      <td>60492</td>\n",
              "      <td>[43, 37, 213, 284]</td>\n",
              "      <td>0</td>\n",
              "    </tr>\n",
              "  </tbody>\n",
              "</table>\n",
              "</div>"
            ],
            "text/plain": [
              "   id image_id  category_id  ...    area                 bbox iscrowd\n",
              "0   0        0            2  ...  112029  [59, 105, 321, 349]       0\n",
              "1   1        1            4  ...   44928  [151, 63, 192, 234]       0\n",
              "2   2        2            3  ...   76072   [49, 54, 296, 257]       0\n",
              "3   3        3            2  ...  131950   [21, 18, 406, 325]       0\n",
              "4   4        4            4  ...   60492   [43, 37, 213, 284]       0\n",
              "\n",
              "[5 rows x 7 columns]"
            ]
          },
          "metadata": {
            "tags": []
          },
          "execution_count": 7
        }
      ]
    },
    {
      "cell_type": "code",
      "metadata": {
        "id": "W9L-5pvawZgi",
        "colab_type": "code",
        "colab": {}
      },
      "source": [
        "#Extract the Box Dimensions\n",
        "dogs_df = pd.concat([images_df, annotations_df], 1)[['file_name', 'width', 'height', 'bbox']]\n",
        "x_list = []\n",
        "y_list = []\n",
        "w_list = []\n",
        "h_list = [] \n",
        "for row in range(dogs_df.shape[0]):\n",
        "  x = dogs_df['bbox'][row][0]\n",
        "  y = dogs_df['bbox'][row][1]\n",
        "  w = dogs_df['bbox'][row][2]\n",
        "  h = dogs_df['bbox'][row][3]\n",
        "  x_list.append(x)\n",
        "  y_list.append(y)\n",
        "  w_list.append(w)\n",
        "  h_list.append(h)\n",
        "box_df = pd.DataFrame(list(zip(x_list, y_list, w_list, h_list)), columns =['x', 'y', 'box_width', 'box_height'])\n",
        "dogs_df = pd.concat([dogs_df, box_df], 1)\n",
        "dogs_df = dogs_df.drop('bbox', axis =1)"
      ],
      "execution_count": 0,
      "outputs": []
    },
    {
      "cell_type": "code",
      "metadata": {
        "id": "M2-VLtMZwoqO",
        "colab_type": "code",
        "outputId": "4a969a9a-d509-4248-f4e9-6dd652f5f699",
        "colab": {
          "base_uri": "https://localhost:8080/",
          "height": 204
        }
      },
      "source": [
        "dogs_df.head()"
      ],
      "execution_count": 9,
      "outputs": [
        {
          "output_type": "execute_result",
          "data": {
            "text/html": [
              "<div>\n",
              "<style scoped>\n",
              "    .dataframe tbody tr th:only-of-type {\n",
              "        vertical-align: middle;\n",
              "    }\n",
              "\n",
              "    .dataframe tbody tr th {\n",
              "        vertical-align: top;\n",
              "    }\n",
              "\n",
              "    .dataframe thead th {\n",
              "        text-align: right;\n",
              "    }\n",
              "</style>\n",
              "<table border=\"1\" class=\"dataframe\">\n",
              "  <thead>\n",
              "    <tr style=\"text-align: right;\">\n",
              "      <th></th>\n",
              "      <th>file_name</th>\n",
              "      <th>width</th>\n",
              "      <th>height</th>\n",
              "      <th>x</th>\n",
              "      <th>y</th>\n",
              "      <th>box_width</th>\n",
              "      <th>box_height</th>\n",
              "    </tr>\n",
              "  </thead>\n",
              "  <tbody>\n",
              "    <tr>\n",
              "      <th>0</th>\n",
              "      <td>dog_1.jpg</td>\n",
              "      <td>473</td>\n",
              "      <td>471</td>\n",
              "      <td>59</td>\n",
              "      <td>105</td>\n",
              "      <td>321</td>\n",
              "      <td>349</td>\n",
              "    </tr>\n",
              "    <tr>\n",
              "      <th>1</th>\n",
              "      <td>dog_2.jpg</td>\n",
              "      <td>474</td>\n",
              "      <td>474</td>\n",
              "      <td>151</td>\n",
              "      <td>63</td>\n",
              "      <td>192</td>\n",
              "      <td>234</td>\n",
              "    </tr>\n",
              "    <tr>\n",
              "      <th>2</th>\n",
              "      <td>dog_3.jpg</td>\n",
              "      <td>473</td>\n",
              "      <td>315</td>\n",
              "      <td>49</td>\n",
              "      <td>54</td>\n",
              "      <td>296</td>\n",
              "      <td>257</td>\n",
              "    </tr>\n",
              "    <tr>\n",
              "      <th>3</th>\n",
              "      <td>dog_4.jpg</td>\n",
              "      <td>474</td>\n",
              "      <td>355</td>\n",
              "      <td>21</td>\n",
              "      <td>18</td>\n",
              "      <td>406</td>\n",
              "      <td>325</td>\n",
              "    </tr>\n",
              "    <tr>\n",
              "      <th>4</th>\n",
              "      <td>dog_5.jpg</td>\n",
              "      <td>474</td>\n",
              "      <td>323</td>\n",
              "      <td>43</td>\n",
              "      <td>37</td>\n",
              "      <td>213</td>\n",
              "      <td>284</td>\n",
              "    </tr>\n",
              "  </tbody>\n",
              "</table>\n",
              "</div>"
            ],
            "text/plain": [
              "   file_name  width  height    x    y  box_width  box_height\n",
              "0  dog_1.jpg    473     471   59  105        321         349\n",
              "1  dog_2.jpg    474     474  151   63        192         234\n",
              "2  dog_3.jpg    473     315   49   54        296         257\n",
              "3  dog_4.jpg    474     355   21   18        406         325\n",
              "4  dog_5.jpg    474     323   43   37        213         284"
            ]
          },
          "metadata": {
            "tags": []
          },
          "execution_count": 9
        }
      ]
    },
    {
      "cell_type": "code",
      "metadata": {
        "id": "ofEdrLij3s44",
        "colab_type": "code",
        "colab": {}
      },
      "source": [
        "#Normalize the Box Dimensions based on Image Height and Width\n",
        "dogs_df['x'] = dogs_df['x'] / dogs_df['width']\n",
        "dogs_df['y'] = dogs_df['y'] / dogs_df['height']\n",
        "dogs_df['box_width'] = dogs_df['box_width'] / dogs_df['width']\n",
        "dogs_df['box_height'] = dogs_df['box_height'] / dogs_df['height']"
      ],
      "execution_count": 0,
      "outputs": []
    },
    {
      "cell_type": "code",
      "metadata": {
        "id": "oaCsfBhk4XDb",
        "colab_type": "code",
        "colab": {
          "base_uri": "https://localhost:8080/",
          "height": 204
        },
        "outputId": "8d6cb3c0-b11b-4ba4-9aef-c3eb34fa4eda"
      },
      "source": [
        "dogs_df.head()"
      ],
      "execution_count": 11,
      "outputs": [
        {
          "output_type": "execute_result",
          "data": {
            "text/html": [
              "<div>\n",
              "<style scoped>\n",
              "    .dataframe tbody tr th:only-of-type {\n",
              "        vertical-align: middle;\n",
              "    }\n",
              "\n",
              "    .dataframe tbody tr th {\n",
              "        vertical-align: top;\n",
              "    }\n",
              "\n",
              "    .dataframe thead th {\n",
              "        text-align: right;\n",
              "    }\n",
              "</style>\n",
              "<table border=\"1\" class=\"dataframe\">\n",
              "  <thead>\n",
              "    <tr style=\"text-align: right;\">\n",
              "      <th></th>\n",
              "      <th>file_name</th>\n",
              "      <th>width</th>\n",
              "      <th>height</th>\n",
              "      <th>x</th>\n",
              "      <th>y</th>\n",
              "      <th>box_width</th>\n",
              "      <th>box_height</th>\n",
              "    </tr>\n",
              "  </thead>\n",
              "  <tbody>\n",
              "    <tr>\n",
              "      <th>0</th>\n",
              "      <td>dog_1.jpg</td>\n",
              "      <td>473</td>\n",
              "      <td>471</td>\n",
              "      <td>0.124736</td>\n",
              "      <td>0.222930</td>\n",
              "      <td>0.678647</td>\n",
              "      <td>0.740977</td>\n",
              "    </tr>\n",
              "    <tr>\n",
              "      <th>1</th>\n",
              "      <td>dog_2.jpg</td>\n",
              "      <td>474</td>\n",
              "      <td>474</td>\n",
              "      <td>0.318565</td>\n",
              "      <td>0.132911</td>\n",
              "      <td>0.405063</td>\n",
              "      <td>0.493671</td>\n",
              "    </tr>\n",
              "    <tr>\n",
              "      <th>2</th>\n",
              "      <td>dog_3.jpg</td>\n",
              "      <td>473</td>\n",
              "      <td>315</td>\n",
              "      <td>0.103594</td>\n",
              "      <td>0.171429</td>\n",
              "      <td>0.625793</td>\n",
              "      <td>0.815873</td>\n",
              "    </tr>\n",
              "    <tr>\n",
              "      <th>3</th>\n",
              "      <td>dog_4.jpg</td>\n",
              "      <td>474</td>\n",
              "      <td>355</td>\n",
              "      <td>0.044304</td>\n",
              "      <td>0.050704</td>\n",
              "      <td>0.856540</td>\n",
              "      <td>0.915493</td>\n",
              "    </tr>\n",
              "    <tr>\n",
              "      <th>4</th>\n",
              "      <td>dog_5.jpg</td>\n",
              "      <td>474</td>\n",
              "      <td>323</td>\n",
              "      <td>0.090717</td>\n",
              "      <td>0.114551</td>\n",
              "      <td>0.449367</td>\n",
              "      <td>0.879257</td>\n",
              "    </tr>\n",
              "  </tbody>\n",
              "</table>\n",
              "</div>"
            ],
            "text/plain": [
              "   file_name  width  height         x         y  box_width  box_height\n",
              "0  dog_1.jpg    473     471  0.124736  0.222930   0.678647    0.740977\n",
              "1  dog_2.jpg    474     474  0.318565  0.132911   0.405063    0.493671\n",
              "2  dog_3.jpg    473     315  0.103594  0.171429   0.625793    0.815873\n",
              "3  dog_4.jpg    474     355  0.044304  0.050704   0.856540    0.915493\n",
              "4  dog_5.jpg    474     323  0.090717  0.114551   0.449367    0.879257"
            ]
          },
          "metadata": {
            "tags": []
          },
          "execution_count": 11
        }
      ]
    },
    {
      "cell_type": "code",
      "metadata": {
        "id": "2qNVEgxJ5tK8",
        "colab_type": "code",
        "colab": {}
      },
      "source": [
        "hw_array = dogs_df[[\"box_height\", \"box_width\"]].to_numpy()"
      ],
      "execution_count": 0,
      "outputs": []
    },
    {
      "cell_type": "code",
      "metadata": {
        "id": "qxoqLwsr5xzk",
        "colab_type": "code",
        "colab": {
          "base_uri": "https://localhost:8080/",
          "height": 34
        },
        "outputId": "199de8f7-f29b-4e68-f507-c30974d2d7d3"
      },
      "source": [
        "hw_array.shape"
      ],
      "execution_count": 13,
      "outputs": [
        {
          "output_type": "execute_result",
          "data": {
            "text/plain": [
              "(50, 2)"
            ]
          },
          "metadata": {
            "tags": []
          },
          "execution_count": 13
        }
      ]
    },
    {
      "cell_type": "code",
      "metadata": {
        "id": "tAn-PzQs57M8",
        "colab_type": "code",
        "colab": {
          "base_uri": "https://localhost:8080/",
          "height": 282
        },
        "outputId": "538dec12-9b03-45cf-c4fc-b811dcfa1817"
      },
      "source": [
        "plt.scatter(hw_array[:,0], hw_array[:,1])"
      ],
      "execution_count": 14,
      "outputs": [
        {
          "output_type": "execute_result",
          "data": {
            "text/plain": [
              "<matplotlib.collections.PathCollection at 0x7fcb8ffc3160>"
            ]
          },
          "metadata": {
            "tags": []
          },
          "execution_count": 14
        },
        {
          "output_type": "display_data",
          "data": {
            "image/png": "[encoded data removed]",
            "text/plain": [
              "<Figure size 432x288 with 1 Axes>"
            ]
          },
          "metadata": {
            "tags": [],
            "needs_background": "light"
          }
        }
      ]
    },
    {
      "cell_type": "code",
      "metadata": {
        "id": "SK_3xABC6DC_",
        "colab_type": "code",
        "colab": {
          "base_uri": "https://localhost:8080/",
          "height": 295
        },
        "outputId": "8dae64da-e676-48a8-c2f0-131399355ccc"
      },
      "source": [
        "#Elbow Method\n",
        "wcss = []\n",
        "for i in range(1, 11):\n",
        "    kmeans = KMeans(n_clusters=i, init='k-means++', max_iter=300, n_init=10, random_state=0)\n",
        "    kmeans.fit(hw_array)\n",
        "    wcss.append(kmeans.inertia_)\n",
        "plt.plot(range(1, 11), wcss)\n",
        "plt.title('Elbow Method')\n",
        "plt.xlabel('Number of clusters')\n",
        "plt.ylabel('WCSS')\n",
        "plt.show()"
      ],
      "execution_count": 16,
      "outputs": [
        {
          "output_type": "display_data",
          "data": {
            "image/png": "[encoded data removed]",
            "text/plain": [
              "<Figure size 432x288 with 1 Axes>"
            ]
          },
          "metadata": {
            "tags": [],
            "needs_background": "light"
          }
        }
      ]
    },
    {
      "cell_type": "code",
      "metadata": {
        "id": "hQY6lMzu7HzB",
        "colab_type": "code",
        "colab": {
          "base_uri": "https://localhost:8080/",
          "height": 265
        },
        "outputId": "004984e0-da8b-49bd-837b-1230b5ec3bfc"
      },
      "source": [
        "#Determine the optimal number of clusters\n",
        "kmeans = KMeans(n_clusters=5, init='k-means++', max_iter=300, n_init=10, random_state=0)\n",
        "pred_y = kmeans.fit_predict(hw_array)\n",
        "plt.scatter(hw_array[:,0], hw_array[:,1])\n",
        "plt.scatter(kmeans.cluster_centers_[:, 0], kmeans.cluster_centers_[:, 1], s=300, c='red')\n",
        "plt.show()"
      ],
      "execution_count": 20,
      "outputs": [
        {
          "output_type": "display_data",
          "data": {
            "image/png": "[encoded data removed]",
            "text/plain": [
              "<Figure size 432x288 with 1 Axes>"
            ]
          },
          "metadata": {
            "tags": [],
            "needs_background": "light"
          }
        }
      ]
    }
  ]
}