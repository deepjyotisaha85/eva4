{
  "nbformat": 4,
  "nbformat_minor": 0,
  "metadata": {
    "colab": {
      "name": "S7-Solution.ipynb",
      "provenance": [],
      "collapsed_sections": [],
      "authorship_tag": "ABX9TyNqovDwnmzHGLPeXDpzs9uL",
      "include_colab_link": true
    },
    "kernelspec": {
      "name": "python3",
      "display_name": "Python 3"
    },
    "accelerator": "GPU",
    "widgets": {
      "application/vnd.jupyter.widget-state+json": {
        "229541b26561483ab7efbf6698b45c39": {
          "model_module": "@jupyter-widgets/controls",
          "model_name": "HBoxModel",
          "state": {
            "_view_name": "HBoxView",
            "_dom_classes": [],
            "_model_name": "HBoxModel",
            "_view_module": "@jupyter-widgets/controls",
            "_model_module_version": "1.5.0",
            "_view_count": null,
            "_view_module_version": "1.5.0",
            "box_style": "",
            "layout": "IPY_MODEL_8c0922dd4f2342b3b8ce008746a5688a",
            "_model_module": "@jupyter-widgets/controls",
            "children": [
              "IPY_MODEL_a060f2bce30440e987c70b9cd1a8120b",
              "IPY_MODEL_bec7118857fa407c97228090a7851a00"
            ]
          }
        },
        "8c0922dd4f2342b3b8ce008746a5688a": {
          "model_module": "@jupyter-widgets/base",
          "model_name": "LayoutModel",
          "state": {
            "_view_name": "LayoutView",
            "grid_template_rows": null,
            "right": null,
            "justify_content": null,
            "_view_module": "@jupyter-widgets/base",
            "overflow": null,
            "_model_module_version": "1.2.0",
            "_view_count": null,
            "flex_flow": null,
            "width": null,
            "min_width": null,
            "border": null,
            "align_items": null,
            "bottom": null,
            "_model_module": "@jupyter-widgets/base",
            "top": null,
            "grid_column": null,
            "overflow_y": null,
            "overflow_x": null,
            "grid_auto_flow": null,
            "grid_area": null,
            "grid_template_columns": null,
            "flex": null,
            "_model_name": "LayoutModel",
            "justify_items": null,
            "grid_row": null,
            "max_height": null,
            "align_content": null,
            "visibility": null,
            "align_self": null,
            "height": null,
            "min_height": null,
            "padding": null,
            "grid_auto_rows": null,
            "grid_gap": null,
            "max_width": null,
            "order": null,
            "_view_module_version": "1.2.0",
            "grid_template_areas": null,
            "object_position": null,
            "object_fit": null,
            "grid_auto_columns": null,
            "margin": null,
            "display": null,
            "left": null
          }
        },
        "a060f2bce30440e987c70b9cd1a8120b": {
          "model_module": "@jupyter-widgets/controls",
          "model_name": "IntProgressModel",
          "state": {
            "_view_name": "ProgressView",
            "style": "IPY_MODEL_d9a8acd8f2b9446193ac5f5b38f1819e",
            "_dom_classes": [],
            "description": "",
            "_model_name": "IntProgressModel",
            "bar_style": "success",
            "max": 1,
            "_view_module": "@jupyter-widgets/controls",
            "_model_module_version": "1.5.0",
            "value": 1,
            "_view_count": null,
            "_view_module_version": "1.5.0",
            "orientation": "horizontal",
            "min": 0,
            "description_tooltip": null,
            "_model_module": "@jupyter-widgets/controls",
            "layout": "IPY_MODEL_15a0b44c757b4dce8e6f1d87581c5807"
          }
        },
        "bec7118857fa407c97228090a7851a00": {
          "model_module": "@jupyter-widgets/controls",
          "model_name": "HTMLModel",
          "state": {
            "_view_name": "HTMLView",
            "style": "IPY_MODEL_b85308cd79954e2f831e1ff6e0c33971",
            "_dom_classes": [],
            "description": "",
            "_model_name": "HTMLModel",
            "placeholder": "​",
            "_view_module": "@jupyter-widgets/controls",
            "_model_module_version": "1.5.0",
            "value": "170500096it [00:01, 85865928.63it/s]",
            "_view_count": null,
            "_view_module_version": "1.5.0",
            "description_tooltip": null,
            "_model_module": "@jupyter-widgets/controls",
            "layout": "IPY_MODEL_852e41d0721e435bb0efc91c91cec6ce"
          }
        },
        "d9a8acd8f2b9446193ac5f5b38f1819e": {
          "model_module": "@jupyter-widgets/controls",
          "model_name": "ProgressStyleModel",
          "state": {
            "_view_name": "StyleView",
            "_model_name": "ProgressStyleModel",
            "description_width": "",
            "_view_module": "@jupyter-widgets/base",
            "_model_module_version": "1.5.0",
            "_view_count": null,
            "_view_module_version": "1.2.0",
            "bar_color": null,
            "_model_module": "@jupyter-widgets/controls"
          }
        },
        "15a0b44c757b4dce8e6f1d87581c5807": {
          "model_module": "@jupyter-widgets/base",
          "model_name": "LayoutModel",
          "state": {
            "_view_name": "LayoutView",
            "grid_template_rows": null,
            "right": null,
            "justify_content": null,
            "_view_module": "@jupyter-widgets/base",
            "overflow": null,
            "_model_module_version": "1.2.0",
            "_view_count": null,
            "flex_flow": null,
            "width": null,
            "min_width": null,
            "border": null,
            "align_items": null,
            "bottom": null,
            "_model_module": "@jupyter-widgets/base",
            "top": null,
            "grid_column": null,
            "overflow_y": null,
            "overflow_x": null,
            "grid_auto_flow": null,
            "grid_area": null,
            "grid_template_columns": null,
            "flex": null,
            "_model_name": "LayoutModel",
            "justify_items": null,
            "grid_row": null,
            "max_height": null,
            "align_content": null,
            "visibility": null,
            "align_self": null,
            "height": null,
            "min_height": null,
            "padding": null,
            "grid_auto_rows": null,
            "grid_gap": null,
            "max_width": null,
            "order": null,
            "_view_module_version": "1.2.0",
            "grid_template_areas": null,
            "object_position": null,
            "object_fit": null,
            "grid_auto_columns": null,
            "margin": null,
            "display": null,
            "left": null
          }
        },
        "b85308cd79954e2f831e1ff6e0c33971": {
          "model_module": "@jupyter-widgets/controls",
          "model_name": "DescriptionStyleModel",
          "state": {
            "_view_name": "StyleView",
            "_model_name": "DescriptionStyleModel",
            "description_width": "",
            "_view_module": "@jupyter-widgets/base",
            "_model_module_version": "1.5.0",
            "_view_count": null,
            "_view_module_version": "1.2.0",
            "_model_module": "@jupyter-widgets/controls"
          }
        },
        "852e41d0721e435bb0efc91c91cec6ce": {
          "model_module": "@jupyter-widgets/base",
          "model_name": "LayoutModel",
          "state": {
            "_view_name": "LayoutView",
            "grid_template_rows": null,
            "right": null,
            "justify_content": null,
            "_view_module": "@jupyter-widgets/base",
            "overflow": null,
            "_model_module_version": "1.2.0",
            "_view_count": null,
            "flex_flow": null,
            "width": null,
            "min_width": null,
            "border": null,
            "align_items": null,
            "bottom": null,
            "_model_module": "@jupyter-widgets/base",
            "top": null,
            "grid_column": null,
            "overflow_y": null,
            "overflow_x": null,
            "grid_auto_flow": null,
            "grid_area": null,
            "grid_template_columns": null,
            "flex": null,
            "_model_name": "LayoutModel",
            "justify_items": null,
            "grid_row": null,
            "max_height": null,
            "align_content": null,
            "visibility": null,
            "align_self": null,
            "height": null,
            "min_height": null,
            "padding": null,
            "grid_auto_rows": null,
            "grid_gap": null,
            "max_width": null,
            "order": null,
            "_view_module_version": "1.2.0",
            "grid_template_areas": null,
            "object_position": null,
            "object_fit": null,
            "grid_auto_columns": null,
            "margin": null,
            "display": null,
            "left": null
          }
        }
      }
    }
  },
  "cells": [
    {
      "cell_type": "markdown",
      "metadata": {
        "id": "view-in-github",
        "colab_type": "text"
      },
      "source": [
        "<a href=\"https://colab.research.google.com/github/deepjyotisaha85/eva4/blob/master/session7/S7_Solution.ipynb\" target=\"_parent\"><img src=\"https://colab.research.google.com/assets/colab-badge.svg\" alt=\"Open In Colab\"/></a>"
      ]
    },
    {
      "cell_type": "code",
      "metadata": {
        "id": "ELxjQ1eO3RET",
        "colab_type": "code",
        "outputId": "2465a379-ecbf-4c15-f7d8-b0495ebf2c75",
        "colab": {
          "base_uri": "https://localhost:8080/",
          "height": 122
        }
      },
      "source": [
        "# mount gdrive and unzip data\n",
        "from google.colab import drive\n",
        "drive.mount('/content/gdrive')"
      ],
      "execution_count": 1,
      "outputs": [
        {
          "output_type": "stream",
          "text": [
            "Go to this URL in a browser: https://accounts.google.com/o/oauth2/auth?client_id=947318989803-6bn6qk8qdgf4n4g3pfee6491hc0brc4i.apps.googleusercontent.com&redirect_uri=urn%3aietf%3awg%3aoauth%3a2.0%3aoob&response_type=code&scope=email%20https%3a%2f%2fwww.googleapis.com%2fauth%2fdocs.test%20https%3a%2f%2fwww.googleapis.com%2fauth%2fdrive%20https%3a%2f%2fwww.googleapis.com%2fauth%2fdrive.photos.readonly%20https%3a%2f%2fwww.googleapis.com%2fauth%2fpeopleapi.readonly\n",
            "\n",
            "Enter your authorization code:\n",
            "··········\n",
            "Mounted at /content/gdrive\n"
          ],
          "name": "stdout"
        }
      ]
    },
    {
      "cell_type": "code",
      "metadata": {
        "id": "GlovTxBu42sr",
        "colab_type": "code",
        "colab": {}
      },
      "source": [
        "import sys\n",
        "workingdir = '/content/gdrive/My Drive/Colab Notebooks/EVA4/Session 7'\n",
        "sys.path.append(workingdir)"
      ],
      "execution_count": 0,
      "outputs": []
    },
    {
      "cell_type": "code",
      "metadata": {
        "id": "B3DJYjzh44TT",
        "colab_type": "code",
        "colab": {}
      },
      "source": [
        "%matplotlib inline\n",
        "import torch\n",
        "import datapreparation\n",
        "import display\n",
        "import dnn\n",
        "import training\n",
        "import evaluate"
      ],
      "execution_count": 0,
      "outputs": []
    },
    {
      "cell_type": "code",
      "metadata": {
        "id": "Io4gwiw86Y4_",
        "colab_type": "code",
        "outputId": "cec595c5-c141-4345-9772-81c123f019fe",
        "colab": {
          "base_uri": "https://localhost:8080/",
          "height": 134,
          "referenced_widgets": [
            "229541b26561483ab7efbf6698b45c39",
            "8c0922dd4f2342b3b8ce008746a5688a",
            "a060f2bce30440e987c70b9cd1a8120b",
            "bec7118857fa407c97228090a7851a00",
            "d9a8acd8f2b9446193ac5f5b38f1819e",
            "15a0b44c757b4dce8e6f1d87581c5807",
            "b85308cd79954e2f831e1ff6e0c33971",
            "852e41d0721e435bb0efc91c91cec6ce"
          ]
        }
      },
      "source": [
        "classes, trainloader, testloader = datapreparation.load()"
      ],
      "execution_count": 4,
      "outputs": [
        {
          "output_type": "stream",
          "text": [
            "Downloading https://www.cs.toronto.edu/~kriz/cifar-10-python.tar.gz to ./data/cifar-10-python.tar.gz\n"
          ],
          "name": "stdout"
        },
        {
          "output_type": "display_data",
          "data": {
            "application/vnd.jupyter.widget-view+json": {
              "model_id": "229541b26561483ab7efbf6698b45c39",
              "version_minor": 0,
              "version_major": 2
            },
            "text/plain": [
              "HBox(children=(IntProgress(value=1, bar_style='info', max=1), HTML(value='')))"
            ]
          },
          "metadata": {
            "tags": []
          }
        },
        {
          "output_type": "stream",
          "text": [
            "\n",
            "Extracting ./data/cifar-10-python.tar.gz to ./data\n",
            "Files already downloaded and verified\n",
            "CUDA Available? True\n"
          ],
          "name": "stdout"
        }
      ]
    },
    {
      "cell_type": "code",
      "metadata": {
        "id": "JmJ4PIes6qts",
        "colab_type": "code",
        "outputId": "ff9246da-54b0-42ef-81b2-c8e626efd1e3",
        "colab": {
          "base_uri": "https://localhost:8080/",
          "height": 172
        }
      },
      "source": [
        "display.show_random_images(trainloader, classes)"
      ],
      "execution_count": 5,
      "outputs": [
        {
          "output_type": "stream",
          "text": [
            "Clipping input data to the valid range for imshow with RGB data ([0..1] for floats or [0..255] for integers).\n"
          ],
          "name": "stderr"
        },
        {
          "output_type": "stream",
          "text": [
            "shape: torch.Size([128, 3, 32, 32])\n",
            "  cat truck truck   cat   cat\n"
          ],
          "name": "stdout"
        },
        {
          "output_type": "display_data",
          "data": {
            "image/png": "[encoded data removed]",
            "text/plain": [
              "<Figure size 432x288 with 1 Axes>"
            ]
          },
          "metadata": {
            "tags": []
          }
        }
      ]
    },
    {
      "cell_type": "code",
      "metadata": {
        "id": "PVVqdRe1_4Pp",
        "colab_type": "code",
        "outputId": "1e4ad283-2947-41a0-f1e1-f3be6b06e213",
        "colab": {
          "base_uri": "https://localhost:8080/",
          "height": 884
        }
      },
      "source": [
        "!pip install torchsummary\n",
        "from torchsummary import summary\n",
        "use_cuda = torch.cuda.is_available()\n",
        "device = torch.device(\"cuda\" if use_cuda else \"cpu\")\n",
        "print(device)\n",
        "model = dnn.Net().to(device)\n",
        "summary(model, input_size=(3, 32, 32))"
      ],
      "execution_count": 6,
      "outputs": [
        {
          "output_type": "stream",
          "text": [
            "Requirement already satisfied: torchsummary in /usr/local/lib/python3.6/dist-packages (1.5.1)\n",
            "cuda\n",
            "----------------------------------------------------------------\n",
            "        Layer (type)               Output Shape         Param #\n",
            "================================================================\n",
            "            Conv2d-1           [-1, 32, 32, 32]             864\n",
            "              ReLU-2           [-1, 32, 32, 32]               0\n",
            "       BatchNorm2d-3           [-1, 32, 32, 32]              64\n",
            "            Conv2d-4           [-1, 64, 32, 32]          18,432\n",
            "              ReLU-5           [-1, 64, 32, 32]               0\n",
            "       BatchNorm2d-6           [-1, 64, 32, 32]             128\n",
            "            Conv2d-7          [-1, 128, 32, 32]          73,728\n",
            "              ReLU-8          [-1, 128, 32, 32]               0\n",
            "       BatchNorm2d-9          [-1, 128, 32, 32]             256\n",
            "           Conv2d-10           [-1, 32, 32, 32]           4,096\n",
            "        MaxPool2d-11           [-1, 32, 16, 16]               0\n",
            "           Conv2d-12           [-1, 64, 16, 16]          18,432\n",
            "             ReLU-13           [-1, 64, 16, 16]               0\n",
            "      BatchNorm2d-14           [-1, 64, 16, 16]             128\n",
            "           Conv2d-15          [-1, 128, 16, 16]          73,728\n",
            "             ReLU-16          [-1, 128, 16, 16]               0\n",
            "      BatchNorm2d-17          [-1, 128, 16, 16]             256\n",
            "           Conv2d-18           [-1, 32, 16, 16]           4,096\n",
            "        MaxPool2d-19             [-1, 32, 8, 8]               0\n",
            "           Conv2d-20             [-1, 64, 8, 8]          18,432\n",
            "             ReLU-21             [-1, 64, 8, 8]               0\n",
            "      BatchNorm2d-22             [-1, 64, 8, 8]             128\n",
            "           Conv2d-23            [-1, 128, 8, 8]          73,728\n",
            "             ReLU-24            [-1, 128, 8, 8]               0\n",
            "      BatchNorm2d-25            [-1, 128, 8, 8]             256\n",
            "           Conv2d-26             [-1, 32, 8, 8]           4,096\n",
            "        MaxPool2d-27             [-1, 32, 4, 4]               0\n",
            "           Conv2d-28             [-1, 32, 4, 4]             288\n",
            "           Conv2d-29             [-1, 64, 4, 4]           2,048\n",
            "             ReLU-30             [-1, 64, 4, 4]               0\n",
            "      BatchNorm2d-31             [-1, 64, 4, 4]             128\n",
            "           Conv2d-32             [-1, 64, 4, 4]          36,864\n",
            "             ReLU-33             [-1, 64, 4, 4]               0\n",
            "      BatchNorm2d-34             [-1, 64, 4, 4]             128\n",
            "        AvgPool2d-35             [-1, 64, 1, 1]               0\n",
            "           Conv2d-36             [-1, 10, 1, 1]             640\n",
            "================================================================\n",
            "Total params: 330,944\n",
            "Trainable params: 330,944\n",
            "Non-trainable params: 0\n",
            "----------------------------------------------------------------\n",
            "Input size (MB): 0.01\n",
            "Forward/backward pass size (MB): 7.12\n",
            "Params size (MB): 1.26\n",
            "Estimated Total Size (MB): 8.39\n",
            "----------------------------------------------------------------\n"
          ],
          "name": "stdout"
        }
      ]
    },
    {
      "cell_type": "code",
      "metadata": {
        "id": "KYkl9lkCDu-7",
        "colab_type": "code",
        "colab": {}
      },
      "source": [
        "import torch.nn as nn\n",
        "import torch.optim as optim\n",
        "from torch.optim.lr_scheduler import StepLR\n",
        "\n",
        "criterion = nn.CrossEntropyLoss()\n",
        "optimizer = optim.SGD(model.parameters(), lr=0.01, momentum=0.9)\n",
        "scheduler = StepLR(optimizer, step_size=10, gamma=0.1)"
      ],
      "execution_count": 0,
      "outputs": []
    },
    {
      "cell_type": "code",
      "metadata": {
        "id": "2ZvPaP6aEqNF",
        "colab_type": "code",
        "outputId": "c95aeaf6-381c-4d9e-f25c-bcdf4deea453",
        "colab": {
          "base_uri": "https://localhost:8080/",
          "height": 1000
        }
      },
      "source": [
        "EPOCHS = 20\n",
        "for epoch in range(EPOCHS):\n",
        "    print(\"EPOCH:\", epoch+1)\n",
        "    training.train_model(model, device, trainloader, optimizer, criterion, epoch)\n",
        "    training.test_model(model, device, criterion, testloader)"
      ],
      "execution_count": 9,
      "outputs": [
        {
          "output_type": "stream",
          "text": [
            "\r  0%|          | 0/391 [00:00<?, ?it/s]"
          ],
          "name": "stderr"
        },
        {
          "output_type": "stream",
          "text": [
            "EPOCH: 1\n"
          ],
          "name": "stdout"
        },
        {
          "output_type": "stream",
          "text": [
            "Loss=1.0024149417877197 Batch_id=390 Accuracy=52.34: 100%|██████████| 391/391 [00:17<00:00, 23.83it/s]\n",
            "  0%|          | 0/391 [00:00<?, ?it/s]"
          ],
          "name": "stderr"
        },
        {
          "output_type": "stream",
          "text": [
            "\n",
            "Test set: Average loss: 0.0087, Accuracy: 6064/10000 (60.64%)\n",
            "\n",
            "EPOCH: 2\n"
          ],
          "name": "stdout"
        },
        {
          "output_type": "stream",
          "text": [
            "Loss=0.8909853100776672 Batch_id=390 Accuracy=69.81: 100%|██████████| 391/391 [00:18<00:00, 23.17it/s]\n",
            "  0%|          | 0/391 [00:00<?, ?it/s]"
          ],
          "name": "stderr"
        },
        {
          "output_type": "stream",
          "text": [
            "\n",
            "Test set: Average loss: 0.0064, Accuracy: 7197/10000 (71.97%)\n",
            "\n",
            "EPOCH: 3\n"
          ],
          "name": "stdout"
        },
        {
          "output_type": "stream",
          "text": [
            "Loss=0.7485161423683167 Batch_id=390 Accuracy=76.00: 100%|██████████| 391/391 [00:19<00:00, 20.49it/s]\n",
            "  0%|          | 0/391 [00:00<?, ?it/s]"
          ],
          "name": "stderr"
        },
        {
          "output_type": "stream",
          "text": [
            "\n",
            "Test set: Average loss: 0.0054, Accuracy: 7575/10000 (75.75%)\n",
            "\n",
            "EPOCH: 4\n"
          ],
          "name": "stdout"
        },
        {
          "output_type": "stream",
          "text": [
            "Loss=0.6619826555252075 Batch_id=390 Accuracy=79.53: 100%|██████████| 391/391 [00:18<00:00, 20.85it/s]\n",
            "  0%|          | 0/391 [00:00<?, ?it/s]"
          ],
          "name": "stderr"
        },
        {
          "output_type": "stream",
          "text": [
            "\n",
            "Test set: Average loss: 0.0052, Accuracy: 7681/10000 (76.81%)\n",
            "\n",
            "EPOCH: 5\n"
          ],
          "name": "stdout"
        },
        {
          "output_type": "stream",
          "text": [
            "Loss=0.44275838136672974 Batch_id=390 Accuracy=82.22: 100%|██████████| 391/391 [00:18<00:00, 20.97it/s]\n",
            "  0%|          | 0/391 [00:00<?, ?it/s]"
          ],
          "name": "stderr"
        },
        {
          "output_type": "stream",
          "text": [
            "\n",
            "Test set: Average loss: 0.0050, Accuracy: 7817/10000 (78.17%)\n",
            "\n",
            "EPOCH: 6\n"
          ],
          "name": "stdout"
        },
        {
          "output_type": "stream",
          "text": [
            "Loss=0.5293532013893127 Batch_id=390 Accuracy=84.04: 100%|██████████| 391/391 [00:18<00:00, 23.19it/s]\n",
            "  0%|          | 0/391 [00:00<?, ?it/s]"
          ],
          "name": "stderr"
        },
        {
          "output_type": "stream",
          "text": [
            "\n",
            "Test set: Average loss: 0.0049, Accuracy: 7974/10000 (79.74%)\n",
            "\n",
            "EPOCH: 7\n"
          ],
          "name": "stdout"
        },
        {
          "output_type": "stream",
          "text": [
            "Loss=0.4241057336330414 Batch_id=390 Accuracy=85.64: 100%|██████████| 391/391 [00:17<00:00, 23.06it/s]\n",
            "  0%|          | 0/391 [00:00<?, ?it/s]"
          ],
          "name": "stderr"
        },
        {
          "output_type": "stream",
          "text": [
            "\n",
            "Test set: Average loss: 0.0045, Accuracy: 8082/10000 (80.82%)\n",
            "\n",
            "EPOCH: 8\n"
          ],
          "name": "stdout"
        },
        {
          "output_type": "stream",
          "text": [
            "Loss=0.3345543444156647 Batch_id=390 Accuracy=87.28: 100%|██████████| 391/391 [00:18<00:00, 21.55it/s]\n",
            "  0%|          | 0/391 [00:00<?, ?it/s]"
          ],
          "name": "stderr"
        },
        {
          "output_type": "stream",
          "text": [
            "\n",
            "Test set: Average loss: 0.0053, Accuracy: 7760/10000 (77.60%)\n",
            "\n",
            "EPOCH: 9\n"
          ],
          "name": "stdout"
        },
        {
          "output_type": "stream",
          "text": [
            "Loss=0.4061953127384186 Batch_id=390 Accuracy=88.11: 100%|██████████| 391/391 [00:18<00:00, 21.14it/s]\n",
            "  0%|          | 0/391 [00:00<?, ?it/s]"
          ],
          "name": "stderr"
        },
        {
          "output_type": "stream",
          "text": [
            "\n",
            "Test set: Average loss: 0.0050, Accuracy: 7943/10000 (79.43%)\n",
            "\n",
            "EPOCH: 10\n"
          ],
          "name": "stdout"
        },
        {
          "output_type": "stream",
          "text": [
            "Loss=0.42668524384498596 Batch_id=390 Accuracy=89.03: 100%|██████████| 391/391 [00:18<00:00, 23.00it/s]\n",
            "  0%|          | 0/391 [00:00<?, ?it/s]"
          ],
          "name": "stderr"
        },
        {
          "output_type": "stream",
          "text": [
            "\n",
            "Test set: Average loss: 0.0050, Accuracy: 7947/10000 (79.47%)\n",
            "\n",
            "EPOCH: 11\n"
          ],
          "name": "stdout"
        },
        {
          "output_type": "stream",
          "text": [
            "Loss=0.2358514368534088 Batch_id=390 Accuracy=89.96: 100%|██████████| 391/391 [00:18<00:00, 22.95it/s]\n",
            "  0%|          | 0/391 [00:00<?, ?it/s]"
          ],
          "name": "stderr"
        },
        {
          "output_type": "stream",
          "text": [
            "\n",
            "Test set: Average loss: 0.0049, Accuracy: 8068/10000 (80.68%)\n",
            "\n",
            "EPOCH: 12\n"
          ],
          "name": "stdout"
        },
        {
          "output_type": "stream",
          "text": [
            "Loss=0.30238592624664307 Batch_id=390 Accuracy=91.09: 100%|██████████| 391/391 [00:18<00:00, 21.21it/s]\n",
            "  0%|          | 0/391 [00:00<?, ?it/s]"
          ],
          "name": "stderr"
        },
        {
          "output_type": "stream",
          "text": [
            "\n",
            "Test set: Average loss: 0.0050, Accuracy: 8048/10000 (80.48%)\n",
            "\n",
            "EPOCH: 13\n"
          ],
          "name": "stdout"
        },
        {
          "output_type": "stream",
          "text": [
            "Loss=0.20340752601623535 Batch_id=390 Accuracy=91.23: 100%|██████████| 391/391 [00:18<00:00, 21.10it/s]\n",
            "  0%|          | 0/391 [00:00<?, ?it/s]"
          ],
          "name": "stderr"
        },
        {
          "output_type": "stream",
          "text": [
            "\n",
            "Test set: Average loss: 0.0053, Accuracy: 7872/10000 (78.72%)\n",
            "\n",
            "EPOCH: 14\n"
          ],
          "name": "stdout"
        },
        {
          "output_type": "stream",
          "text": [
            "Loss=0.32963827252388 Batch_id=390 Accuracy=91.94: 100%|██████████| 391/391 [00:18<00:00, 23.13it/s]\n",
            "  0%|          | 0/391 [00:00<?, ?it/s]"
          ],
          "name": "stderr"
        },
        {
          "output_type": "stream",
          "text": [
            "\n",
            "Test set: Average loss: 0.0055, Accuracy: 8044/10000 (80.44%)\n",
            "\n",
            "EPOCH: 15\n"
          ],
          "name": "stdout"
        },
        {
          "output_type": "stream",
          "text": [
            "Loss=0.17948712408542633 Batch_id=390 Accuracy=92.35: 100%|██████████| 391/391 [00:18<00:00, 22.85it/s]\n",
            "  0%|          | 0/391 [00:00<?, ?it/s]"
          ],
          "name": "stderr"
        },
        {
          "output_type": "stream",
          "text": [
            "\n",
            "Test set: Average loss: 0.0056, Accuracy: 7982/10000 (79.82%)\n",
            "\n",
            "EPOCH: 16\n"
          ],
          "name": "stdout"
        },
        {
          "output_type": "stream",
          "text": [
            "Loss=0.1835545152425766 Batch_id=390 Accuracy=92.68: 100%|██████████| 391/391 [00:18<00:00, 22.80it/s]\n",
            "  0%|          | 0/391 [00:00<?, ?it/s]"
          ],
          "name": "stderr"
        },
        {
          "output_type": "stream",
          "text": [
            "\n",
            "Test set: Average loss: 0.0052, Accuracy: 8091/10000 (80.91%)\n",
            "\n",
            "EPOCH: 17\n"
          ],
          "name": "stdout"
        },
        {
          "output_type": "stream",
          "text": [
            "Loss=0.2683565020561218 Batch_id=390 Accuracy=93.60: 100%|██████████| 391/391 [00:18<00:00, 20.74it/s]\n",
            "  0%|          | 0/391 [00:00<?, ?it/s]"
          ],
          "name": "stderr"
        },
        {
          "output_type": "stream",
          "text": [
            "\n",
            "Test set: Average loss: 0.0058, Accuracy: 7967/10000 (79.67%)\n",
            "\n",
            "EPOCH: 18\n"
          ],
          "name": "stdout"
        },
        {
          "output_type": "stream",
          "text": [
            "Loss=0.12497015297412872 Batch_id=390 Accuracy=93.58: 100%|██████████| 391/391 [00:18<00:00, 21.03it/s]\n",
            "  0%|          | 0/391 [00:00<?, ?it/s]"
          ],
          "name": "stderr"
        },
        {
          "output_type": "stream",
          "text": [
            "\n",
            "Test set: Average loss: 0.0055, Accuracy: 8078/10000 (80.78%)\n",
            "\n",
            "EPOCH: 19\n"
          ],
          "name": "stdout"
        },
        {
          "output_type": "stream",
          "text": [
            "Loss=0.21108779311180115 Batch_id=390 Accuracy=94.40: 100%|██████████| 391/391 [00:18<00:00, 20.96it/s]\n",
            "  0%|          | 0/391 [00:00<?, ?it/s]"
          ],
          "name": "stderr"
        },
        {
          "output_type": "stream",
          "text": [
            "\n",
            "Test set: Average loss: 0.0060, Accuracy: 7983/10000 (79.83%)\n",
            "\n",
            "EPOCH: 20\n"
          ],
          "name": "stdout"
        },
        {
          "output_type": "stream",
          "text": [
            "Loss=0.13114219903945923 Batch_id=390 Accuracy=94.47: 100%|██████████| 391/391 [00:18<00:00, 20.81it/s]\n"
          ],
          "name": "stderr"
        },
        {
          "output_type": "stream",
          "text": [
            "\n",
            "Test set: Average loss: 0.0056, Accuracy: 8098/10000 (80.98%)\n",
            "\n"
          ],
          "name": "stdout"
        }
      ]
    },
    {
      "cell_type": "code",
      "metadata": {
        "id": "YO8V6cFjFjoV",
        "colab_type": "code",
        "outputId": "41158a29-955b-4cde-cc80-cdb2204cd68f",
        "colab": {
          "base_uri": "https://localhost:8080/",
          "height": 172
        }
      },
      "source": [
        "evaluate.show_predicted_actual(model, device, testloader, classes)"
      ],
      "execution_count": 10,
      "outputs": [
        {
          "output_type": "stream",
          "text": [
            "Clipping input data to the valid range for imshow with RGB data ([0..1] for floats or [0..255] for integers).\n"
          ],
          "name": "stderr"
        },
        {
          "output_type": "stream",
          "text": [
            "GroundTruth:    car  ship  bird horse  ship\n",
            "Predicted:    car  ship  bird horse  ship\n"
          ],
          "name": "stdout"
        },
        {
          "output_type": "display_data",
          "data": {
            "image/png": "[encoded data removed]",
            "text/plain": [
              "<Figure size 432x288 with 1 Axes>"
            ]
          },
          "metadata": {
            "tags": []
          }
        }
      ]
    },
    {
      "cell_type": "code",
      "metadata": {
        "id": "v1dPk3opOzcP",
        "colab_type": "code",
        "outputId": "807c8a34-3014-416c-91bd-1c6d00b41826",
        "colab": {
          "base_uri": "https://localhost:8080/",
          "height": 34
        }
      },
      "source": [
        "evaluate.evaluate_accuracy(model, device, testloader)"
      ],
      "execution_count": 11,
      "outputs": [
        {
          "output_type": "stream",
          "text": [
            "Accuracy of the network on the 10000 test images: 81 %\n"
          ],
          "name": "stdout"
        }
      ]
    },
    {
      "cell_type": "code",
      "metadata": {
        "id": "X3DJ0IuROzVI",
        "colab_type": "code",
        "outputId": "b431db00-06b2-4aba-c9e6-f247308816e7",
        "colab": {
          "base_uri": "https://localhost:8080/",
          "height": 187
        }
      },
      "source": [
        "evaluate.evaluate_classwise_accuracy(model, device, classes, testloader)"
      ],
      "execution_count": 12,
      "outputs": [
        {
          "output_type": "stream",
          "text": [
            "Accuracy of plane : 80 %\n",
            "Accuracy of   car : 94 %\n",
            "Accuracy of  bird : 68 %\n",
            "Accuracy of   cat : 60 %\n",
            "Accuracy of  deer : 70 %\n",
            "Accuracy of   dog : 83 %\n",
            "Accuracy of  frog : 86 %\n",
            "Accuracy of horse : 84 %\n",
            "Accuracy of  ship : 96 %\n",
            "Accuracy of truck : 96 %\n"
          ],
          "name": "stdout"
        }
      ]
    }
  ]
}